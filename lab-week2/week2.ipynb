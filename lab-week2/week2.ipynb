{
  "cells": [
    {
      "cell_type": "code",
      "execution_count": null,
      "metadata": {
        "colab": {
          "base_uri": "https://localhost:8080/"
        },
        "id": "HU_I8D7ck03l",
        "outputId": "f5916d38-e95d-43b6-8ce4-9144ea665a54"
      },
      "outputs": [],
      "source": [
        "# 1.Generate numerical data using Range and Arange functions.\n",
        "\n",
        "#range\n",
        "import numpy as np\n",
        "x=range(0,10)\n",
        "rangeList=list(x)\n",
        "print(f'Range :- {rangeList}')\n",
        "\n",
        "#arange\n",
        "arangeList=np.arange(0,5,0.5)\n",
        "print(f'Arange:-{arangeList}')\n"
      ]
    },
    {
      "cell_type": "code",
      "execution_count": null,
      "metadata": {
        "colab": {
          "base_uri": "https://localhost:8080/"
        },
        "id": "zv6WuJQPoYgY",
        "outputId": "2a9d9bcc-ec24-4b70-f867-ae1f3950a218"
      },
      "outputs": [],
      "source": [
        "#2.Understand and implement linspace function.\n",
        "\n",
        "# Generate 10 evenly spaced numbers between 1 and 5\n",
        "linspacelist=np.linspace(1,5,num=10)\n",
        "print(linspacelist)\n",
        "\n",
        "#if stop is not to be included then endpoint=false\n",
        "linspaceEnd=np.linspace(1,5,num=10,endpoint=False)\n",
        "print(linspaceEnd)\n",
        "\n",
        "#specfying the datatype\n",
        "linspaceData=np.linspace(1,5,num=5,dtype=int)\n",
        "print(linspaceData)"
      ]
    },
    {
      "cell_type": "code",
      "execution_count": null,
      "metadata": {
        "colab": {
          "base_uri": "https://localhost:8080/",
          "height": 472
        },
        "id": "lhDhaMOwqURV",
        "outputId": "22c3b362-a862-4706-802f-85d44efc7e06"
      },
      "outputs": [],
      "source": [
        "'''3) Using lists, numpy arrays, range and arrange functions implement the following plots using matplotlib\n",
        "library functions:\n",
        "a) Simple Scatter Plot '''\n",
        "\n",
        "import matplotlib.pyplot as plt\n",
        "x=[1,2,3,4,5]\n",
        "y=[2,4,6,8,10]\n",
        "plt.scatter(x,y,color='blue',marker='o')\n",
        "plt.title('Simple Scatter Plot')\n",
        "plt.xlabel('X axis')\n",
        "plt.ylabel('Y axis')\n",
        "plt.grid()\n",
        "plt.show()"
      ]
    },
    {
      "cell_type": "code",
      "execution_count": null,
      "metadata": {
        "colab": {
          "base_uri": "https://localhost:8080/",
          "height": 472
        },
        "id": "rUo8JYQisgoC",
        "outputId": "e49a86bd-4cfe-4c2c-8187-a0ae0a7b4f4d"
      },
      "outputs": [],
      "source": [
        "#b)sine curve plot\n",
        "import numpy as np\n",
        "x=np.arange(0,2*np.pi,0.1)\n",
        "y=np.sin(x)\n",
        "\n",
        "plt.plot(x,y,label='sine Curve')\n",
        "plt.title('Sine Curve Plot')\n",
        "plt.xlabel('X axis')\n",
        "plt.ylabel('Y axis')\n",
        "plt.legend()\n",
        "plt.grid()\n",
        "plt.show()"
      ]
    },
    {
      "cell_type": "code",
      "execution_count": null,
      "metadata": {
        "colab": {
          "base_uri": "https://localhost:8080/",
          "height": 472
        },
        "id": "-nKuERghtrH5",
        "outputId": "144599dd-4c71-43c4-ff7d-eec0e990517a"
      },
      "outputs": [],
      "source": [
        "#c) Data Generation Using Random Function\n",
        "import numpy as np\n",
        "x=np.random.rand(100)\n",
        "y=np.random.rand(100)\n",
        "\n",
        "plt.scatter(x,y,color=\"red\")\n",
        "plt.title(\"Random Data Scatter\")\n",
        "plt.xlabel('Random X')\n",
        "plt.ylabel('Random Y')\n",
        "plt.show()"
      ]
    },
    {
      "cell_type": "code",
      "execution_count": null,
      "metadata": {
        "colab": {
          "base_uri": "https://localhost:8080/",
          "height": 472
        },
        "id": "r3Ko2GjOuupv",
        "outputId": "153f66cc-3480-4fae-9fb1-ef9f2bf816b1"
      },
      "outputs": [],
      "source": [
        "#d) Histograms, Bar Plots, and Box Plot\n",
        "''' bins refers to the intervals or segments into which the data is divided. When you create a histogram, the data is grouped into these bins,\n",
        "and the histogram displays the frequency (count) of data points that fall within each bin.'''\n",
        "import seaborn as sms\n",
        "iris=sms.load_dataset('iris')\n",
        "\n",
        "#Histogram\n",
        "plt.hist(iris['sepal_length'],bins=10,color='green')\n",
        "plt.title('Histogram of Sepal Length')\n",
        "plt.xlabel('Sepal Length')\n",
        "plt.ylabel('Frequency')\n",
        "plt.show()\n"
      ]
    },
    {
      "cell_type": "code",
      "execution_count": null,
      "metadata": {
        "colab": {
          "base_uri": "https://localhost:8080/",
          "height": 472
        },
        "id": "pYrEEZfaxGXl",
        "outputId": "d3a00681-9767-423a-e5bf-53fd10d2b454"
      },
      "outputs": [],
      "source": [
        "#Bar Plot\n",
        "sms.barplot(x='species',y='sepal_length',data=iris)\n",
        "plt.title('Average Sepal Length by Species')\n",
        "plt.xlabel('Species')\n",
        "plt.ylabel('Sepal Length(cm)')\n",
        "plt.show()"
      ]
    },
    {
      "cell_type": "code",
      "execution_count": null,
      "metadata": {
        "colab": {
          "base_uri": "https://localhost:8080/",
          "height": 472
        },
        "id": "PXb9B-R5xt0Z",
        "outputId": "2689ebef-4d98-478d-b38f-ee27062677d4"
      },
      "outputs": [],
      "source": [
        "#Box Plot\n",
        "sms.boxplot(x='species',y='sepal_length',data=iris,color='purple')\n",
        "plt.title('Average Sepal Length by Species')\n",
        "plt.xlabel('Species')\n",
        "plt.ylabel('Sepal Length(cm)')\n",
        "plt.show()"
      ]
    },
    {
      "cell_type": "code",
      "execution_count": 2,
      "metadata": {},
      "outputs": [],
      "source": [
        "import numpy as np\n",
        "m1,n1=map(int,input('Enter the row and column of Matrix 1 :').split())\n",
        "x=np.random.randint(1,10,size=(m1,n1))\n",
        "matrixA=np.array(x)\n",
        "m2,n2=map(int,input('Enter the row and column of Matrix 2 :').split())\n",
        "y=np.random.randint(1,10,size=(m2,n2))\n",
        "matrixB=np.array(y)\n",
        "print(f'Matrix 1:-\\n{matrixA}')\n",
        "print(f'Matrix 2:-\\n{matrixB}')"
      ]
    },
    {
      "cell_type": "code",
      "execution_count": 1,
      "metadata": {},
      "outputs": [
        {
          "ename": "NameError",
          "evalue": "name 'matrixA' is not defined",
          "output_type": "error",
          "traceback": [
            "\u001b[1;31m---------------------------------------------------------------------------\u001b[0m",
            "\u001b[1;31mNameError\u001b[0m                                 Traceback (most recent call last)",
            "Cell \u001b[1;32mIn[1], line 1\u001b[0m\n\u001b[1;32m----> 1\u001b[0m \u001b[38;5;28;01mif\u001b[39;00m \u001b[43mmatrixA\u001b[49m\u001b[38;5;241m.\u001b[39mshape \u001b[38;5;241m==\u001b[39m matrixB\u001b[38;5;241m.\u001b[39mshape:\n\u001b[0;32m      2\u001b[0m   matrixSum\u001b[38;5;241m=\u001b[39mmatrixA\u001b[38;5;241m+\u001b[39mmatrixB\n\u001b[0;32m      3\u001b[0m   \u001b[38;5;28mprint\u001b[39m(\u001b[38;5;124mf\u001b[39m\u001b[38;5;124m'\u001b[39m\u001b[38;5;124mSum of Matrix : \u001b[39m\u001b[38;5;130;01m\\n\u001b[39;00m\u001b[38;5;132;01m{\u001b[39;00mmatrixSum\u001b[38;5;132;01m}\u001b[39;00m\u001b[38;5;124m'\u001b[39m)\n",
            "\u001b[1;31mNameError\u001b[0m: name 'matrixA' is not defined"
          ]
        }
      ],
      "source": [
        "if matrixA.shape == matrixB.shape:\n",
        "  matrixSum=matrixA+matrixB\n",
        "  print(f'Sum of Matrix : \\n{matrixSum}')\n",
        "else:\n",
        "  print('***Matrix Addiion cannot be performed on uneven dimension***')"
      ]
    },
    {
      "cell_type": "code",
      "execution_count": null,
      "metadata": {},
      "outputs": [],
      "source": [
        "if n1==m2:\n",
        "  matrixMul=np.dot(matrixA,matrixB)\n",
        "  print(f'Product of Matrix :\\n {matrixMul}')\n",
        "else:\n",
        "  print('***Matrix Multiplication cannot be performed ***')"
      ]
    },
    {
      "cell_type": "code",
      "execution_count": null,
      "metadata": {},
      "outputs": [],
      "source": [
        "row,col=matrixMul.shape\n",
        "if row!=col:\n",
        "  print(\"***Matrix Inversion cannot be performed because it is not a square matrix***\")\n",
        "else:\n",
        "  matrixInv=np.linalg.inv(matrixMul)\n",
        "  print(f'Matrix Inversion : \\n{matrixInv}')"
      ]
    },
    {
      "cell_type": "code",
      "execution_count": 1,
      "metadata": {
        "colab": {
          "base_uri": "https://localhost:8080/"
        },
        "id": "nckPFEEFiJ9d",
        "outputId": "39f082de-e116-4516-83f7-9650cb6ade83"
      },
      "outputs": [
        {
          "name": "stdout",
          "output_type": "stream",
          "text": [
            "List to Array:[1 2 3 4 5]\n",
            "Array to List:[1, 2, 3, 4, 5]\n"
          ]
        }
      ],
      "source": [
        "'''5) Using any random data write a program in Python illustrating the conversion of Lists to numpy Arrays\n",
        "and  numpy Arrays to Lists.  '''\n",
        "import numpy as np\n",
        "x=[1,2,3,4,5]\n",
        "#list to array\n",
        "listArray=np.array(x)\n",
        "arrayList=list(listArray)\n",
        "print(f'List to Array:{listArray}')\n",
        "print(f'Array to List:{arrayList}')"
      ]
    },
    {
      "cell_type": "code",
      "execution_count": 30,
      "metadata": {
        "id": "uZS2QL8TqXIM"
      },
      "outputs": [
        {
          "name": "stdout",
          "output_type": "stream",
          "text": [
            "Grade Dataset : \n",
            "   sno  regno    name  m1  m2  m3  m4  m5\n",
            "0    1    101     Ani  90  91  92  93  94\n",
            "1    2    102    Anik  79  80  81  82  83\n",
            "2    3    103    Anil  80  81  82  83  84\n",
            "3    4    104    Anuj  81  82  83  84  85\n",
            "4    5    105    Anin  82  83  84  85  86\n",
            "5    6    106    Anup  83  84  85  86  87\n",
            "6    7    107   Anoop  84  85  86  87  88\n",
            "7    8    108    Adal  85  86  87  88  89\n",
            "8    9    109   Anish  86  87  88  89  90\n",
            "9   10    110  Anisha  86  86  86  86  86\n",
            "\n"
          ]
        }
      ],
      "source": [
        "import numpy as np\n",
        "import pandas as pd\n",
        "import matplotlib.pyplot as plt\n",
        "import seaborn as sns\n",
        "gradeDate=pd.read_csv('grade.csv')\n",
        "print(f'Grade Dataset : \\n{gradeDate}\\n')"
      ]
    },
    {
      "cell_type": "code",
      "execution_count": 16,
      "metadata": {},
      "outputs": [
        {
          "name": "stdout",
          "output_type": "stream",
          "text": [
            "Mean of each column :\n",
            "m1    83.6\n",
            "m2    84.5\n",
            "m3    85.4\n",
            "m4    86.3\n",
            "m5    87.2\n",
            "dtype: float64\n",
            "\n"
          ]
        }
      ],
      "source": [
        "#mean\n",
        "mean=gradeDate[['m1','m2','m3','m4','m5']].mean()\n",
        "print(f'Mean of each column :\\n{mean}\\n')"
      ]
    },
    {
      "cell_type": "code",
      "execution_count": 25,
      "metadata": {},
      "outputs": [
        {
          "name": "stdout",
          "output_type": "stream",
          "text": [
            "Median of each column :\n",
            "m1    83.5\n",
            "m2    84.5\n",
            "m3    85.5\n",
            "m4    86.0\n",
            "m5    86.5\n",
            "dtype: float64\n",
            "\n"
          ]
        }
      ],
      "source": [
        "median=gradeDate[['m1','m2','m3','m4','m5']].median()\n",
        "print(f'Median of each column :\\n{median}\\n')"
      ]
    },
    {
      "cell_type": "code",
      "execution_count": 18,
      "metadata": {},
      "outputs": [
        {
          "name": "stdout",
          "output_type": "stream",
          "text": [
            "Mode of each column :\n",
            "   m1  m2  m3  m4  m5\n",
            "0  86  86  86  86  86\n",
            "\n"
          ]
        }
      ],
      "source": [
        "mode=gradeDate[['m1','m2','m3','m4','m5']].mode()\n",
        "print(f'Mode of each column :\\n{mode}\\n')"
      ]
    },
    {
      "cell_type": "code",
      "execution_count": 26,
      "metadata": {},
      "outputs": [
        {
          "name": "stdout",
          "output_type": "stream",
          "text": [
            "Five Number Summary \n",
            "           m1     m2     m3     m4     m5\n",
            "min     79.00  80.00  81.00  82.00  83.00\n",
            "Q1      81.25  82.25  83.25  84.25  85.25\n",
            "Median  83.50  84.50  85.50  86.00  86.50\n",
            "Q3      85.75  86.00  86.75  87.75  88.75\n",
            "max     90.00  91.00  92.00  93.00  94.00\n"
          ]
        }
      ],
      "source": [
        "x=gradeDate[['m1','m2','m3','m4','m5']].describe()\n",
        "fiveNumberSummaryTable=x.loc[['min', '25%', '50%', '75%', 'max']]\n",
        "fiveNumberSummaryTable.rename(index={'25%': 'Q1', '50%': 'Median', '75%': 'Q3'}, inplace=True)\n",
        "print(f'Five Number Summary \\n{fiveNumberSummaryTable}')"
      ]
    },
    {
      "cell_type": "code",
      "execution_count": 31,
      "metadata": {},
      "outputs": [
        {
          "data": {
            "image/png": "[encoded data removed]",
            "text/plain": [
              "<Figure size 1200x800 with 1 Axes>"
            ]
          },
          "metadata": {},
          "output_type": "display_data"
        }
      ],
      "source": [
        "#plots\n",
        "plt.figure(figsize=(12, 8))\n",
        "sns.boxplot(data=gradeDate[['m1','m2','m3','m4','m5']])\n",
        "plt.title(\"Box Plot of Student Marks\")\n",
        "plt.xlabel('Subjects')\n",
        "plt.ylabel('Marks')\n",
        "plt.show()"
      ]
    },
    {
      "cell_type": "code",
      "execution_count": 38,
      "metadata": {},
      "outputs": [
        {
          "data": {
            "image/png": "[encoded data removed]",
            "text/plain": [
              "<Figure size 1200x800 with 6 Axes>"
            ]
          },
          "metadata": {},
          "output_type": "display_data"
        }
      ],
      "source": [
        "gradeDate[['m1','m2','m3','m4','m5']].hist(bins=20, figsize=(12, 8))\n",
        "plt.suptitle('Histograms of Student Marks')\n",
        "plt.show()"
      ]
    },
    {
      "cell_type": "code",
      "execution_count": 44,
      "metadata": {},
      "outputs": [
        {
          "name": "stdout",
          "output_type": "stream",
          "text": [
            "Outliers:\n",
            "m1: []\n",
            "m2: []\n",
            "m3: []\n",
            "m4: []\n",
            "m5: []\n"
          ]
        }
      ],
      "source": [
        "# Function to detect outliers\n",
        "def detect_outliers(df):\n",
        "    outliers = {}\n",
        "    for column in ['m1', 'm2', 'm3', 'm4', 'm5']:\n",
        "        Q1 = df[column].quantile(0.25)\n",
        "        Q3 = df[column].quantile(0.75)\n",
        "        IQR = Q3 - Q1\n",
        "        lower_bound = Q1 - 1.5 * IQR\n",
        "        upper_bound = Q3 + 1.5 * IQR\n",
        "        outliers[column] = df[(df[column] < lower_bound) | (df[column] > upper_bound)][column]\n",
        "    return outliers\n",
        "\n",
        "# Get outliers\n",
        "outlier_values = detect_outliers(gradeDate)\n",
        "print(\"Outliers:\")\n",
        "for column, values in outlier_values.items():\n",
        "    print(f\"{column}: {values.values}\")\n",
        "\n"
      ]
    },
    {
      "cell_type": "code",
      "execution_count": 73,
      "metadata": {},
      "outputs": [
        {
          "name": "stdout",
          "output_type": "stream",
          "text": [
            "Random Integer : 7\n",
            "Random Floating  Integer : 0.620882787170515\n",
            "Random with unifrom interval : 4.980357177769193\n",
            "Random from sample : 1\n",
            "Random from sample : [5, 2]\n",
            "Random from sample : [5, 2, 3, 1, 4]\n",
            "Random Choices with Replacement: [4, 1, 4]\n"
          ]
        },
        {
          "data": {
            "text/plain": [
              "<module 'random' from 'c:\\\\Program Files\\\\Python312\\\\Lib\\\\random.py'>"
            ]
          },
          "execution_count": 73,
          "metadata": {},
          "output_type": "execute_result"
        }
      ],
      "source": [
        "#Generate random data using all available built in random functions in Python. \n",
        "import random\n",
        "print(f'Random Integer : {random.randint(1,10)}')\n",
        "print(f'Random Floating  Integer : {random.random()}')\n",
        "print('Random with unifrom interval :',random.uniform(1.5,5.5))\n",
        "sample=[1,2,3,4,5]\n",
        "print('Random from sample :',random.choice(sample))\n",
        "print('Random from sample :',random.sample(sample,2))\n",
        "random.shuffle(sample)\n",
        "print('Random from sample :',sample)\n",
        "print(\"Random Choices with Replacement:\", random.choices(sample, weights=[1, 2, 3,4,5], k=3))\n",
        "\n",
        "\n",
        "random"
      ]
    },
    {
      "cell_type": "code",
      "execution_count": 1,
      "metadata": {},
      "outputs": [
        {
          "ename": "NameError",
          "evalue": "name 'matrixA' is not defined",
          "output_type": "error",
          "traceback": [
            "\u001b[1;31m---------------------------------------------------------------------------\u001b[0m",
            "\u001b[1;31mNameError\u001b[0m                                 Traceback (most recent call last)",
            "Cell \u001b[1;32mIn[1], line 6\u001b[0m\n\u001b[0;32m      3\u001b[0m filepath\u001b[38;5;241m=\u001b[39m\u001b[38;5;124m'\u001b[39m\u001b[38;5;124mmatrix.csv\u001b[39m\u001b[38;5;124m'\u001b[39m\n\u001b[0;32m      4\u001b[0m headers\u001b[38;5;241m=\u001b[39m[\u001b[38;5;124m'\u001b[39m\u001b[38;5;124mmatrix\u001b[39m\u001b[38;5;124m'\u001b[39m,\u001b[38;5;124m'\u001b[39m\u001b[38;5;124mData\u001b[39m\u001b[38;5;124m'\u001b[39m]\n\u001b[0;32m      5\u001b[0m csv_data \u001b[38;5;241m=\u001b[39m [\n\u001b[1;32m----> 6\u001b[0m     [\u001b[38;5;124m'\u001b[39m\u001b[38;5;124mMatrix 1\u001b[39m\u001b[38;5;124m'\u001b[39m, \u001b[43mmatrixA\u001b[49m\u001b[38;5;241m.\u001b[39mtolist()],\n\u001b[0;32m      7\u001b[0m     [\u001b[38;5;124m'\u001b[39m\u001b[38;5;124mMatrix 2\u001b[39m\u001b[38;5;124m'\u001b[39m, matrixB\u001b[38;5;241m.\u001b[39mtolist()],\n\u001b[0;32m      8\u001b[0m     [\u001b[38;5;124m'\u001b[39m\u001b[38;5;124mSum of Matrix\u001b[39m\u001b[38;5;124m'\u001b[39m, matrixSum\u001b[38;5;241m.\u001b[39mtolist() ],\n\u001b[0;32m      9\u001b[0m     [\u001b[38;5;124m'\u001b[39m\u001b[38;5;124mProduct of Matrix\u001b[39m\u001b[38;5;124m'\u001b[39m, matrixMul\u001b[38;5;241m.\u001b[39mtolist() ],\n\u001b[0;32m     10\u001b[0m     [\u001b[38;5;124m'\u001b[39m\u001b[38;5;124mMatrix Inversion\u001b[39m\u001b[38;5;124m'\u001b[39m, matrixInv\u001b[38;5;241m.\u001b[39mtolist() ]\n\u001b[0;32m     11\u001b[0m ]\n\u001b[0;32m     13\u001b[0m \u001b[38;5;28;01mwith\u001b[39;00m \u001b[38;5;28mopen\u001b[39m(filepath,\u001b[38;5;124m'\u001b[39m\u001b[38;5;124mw\u001b[39m\u001b[38;5;124m'\u001b[39m,newline\u001b[38;5;241m=\u001b[39m\u001b[38;5;124m'\u001b[39m\u001b[38;5;124m'\u001b[39m) \u001b[38;5;28;01mas\u001b[39;00m file:\n\u001b[0;32m     14\u001b[0m     writer\u001b[38;5;241m=\u001b[39mcsv\u001b[38;5;241m.\u001b[39mwriter(file)\n",
            "\u001b[1;31mNameError\u001b[0m: name 'matrixA' is not defined"
          ]
        }
      ],
      "source": [
        "#8) Write a program in Python to create a new csv file and fill in the data used in Q.4 and display the .csv file.''\n",
        "import csv\n",
        "filepath='matrix.csv'\n",
        "headers=['matrix','Data']\n",
        "csv_data = [\n",
        "    ['Matrix 1', matrixA.tolist()],\n",
        "    ['Matrix 2', matrixB.tolist()],\n",
        "    ['Sum of Matrix', matrixSum.tolist() ],\n",
        "    ['Product of Matrix', matrixMul.tolist() ],\n",
        "    ['Matrix Inversion', matrixInv.tolist() ]\n",
        "]\n",
        "\n",
        "with open(filepath,'w',newline='') as file:\n",
        "    writer=csv.writer(file)\n",
        "    writer.writerow(headers)\n",
        "    for row in csv_data:\n",
        "        writer.writerow(row)\n",
        "\n",
        "matrix=pd.read_csv(filepath)\n",
        "print(matrix)\n",
        "\n"
      ]
    },
    {
      "cell_type": "markdown",
      "metadata": {},
      "source": []
    }
  ],
  "metadata": {
    "colab": {
      "provenance": []
    },
    "kernelspec": {
      "display_name": "Python 3",
      "name": "python3"
    },
    "language_info": {
      "codemirror_mode": {
        "name": "ipython",
        "version": 3
      },
      "file_extension": ".py",
      "mimetype": "text/x-python",
      "name": "python",
      "nbconvert_exporter": "python",
      "pygments_lexer": "ipython3",
      "version": "3.12.4"
    }
  },
  "nbformat": 4,
  "nbformat_minor": 0
}
